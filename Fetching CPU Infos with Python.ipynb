{
 "cells": [
  {
   "cell_type": "code",
   "execution_count": 1,
   "metadata": {},
   "outputs": [],
   "source": [
    "import psutil"
   ]
  },
  {
   "cell_type": "code",
   "execution_count": 2,
   "metadata": {},
   "outputs": [
    {
     "name": "stdout",
     "output_type": "stream",
     "text": [
      "Physical Cores: 6\n",
      "Total Cores: 12\n"
     ]
    }
   ],
   "source": [
    "# Number of Cores\n",
    "print(\"Physical Cores:\", psutil.cpu_count(logical = False))\n",
    "print(\"Total Cores:\", psutil.cpu_count(logical = True))"
   ]
  },
  {
   "cell_type": "code",
   "execution_count": 3,
   "metadata": {},
   "outputs": [
    {
     "name": "stdout",
     "output_type": "stream",
     "text": [
      "Max Frequency: 2592.00 MHz\n",
      "Min Frequency: 0.00 MHz\n",
      "Current Frequency: 2592.00 MHz\n"
     ]
    }
   ],
   "source": [
    "# CPU Frequencies \n",
    "cpufreq = psutil.cpu_freq()\n",
    "print(f\"Max Frequency: {cpufreq.max:.2f} MHz\")\n",
    "print(f\"Min Frequency: {cpufreq.min:.2f} MHz\")\n",
    "print(f\"Current Frequency: {cpufreq.current:.2f} MHz\")"
   ]
  },
  {
   "cell_type": "code",
   "execution_count": 4,
   "metadata": {},
   "outputs": [
    {
     "name": "stdout",
     "output_type": "stream",
     "text": [
      "CPU Usage Per Core:\n",
      "Core 0: 3.1%\n",
      "Core 1: 4.5%\n",
      "Core 2: 9.2%\n",
      "Core 3: 0.0%\n",
      "Core 4: 10.8%\n",
      "Core 5: 3.1%\n",
      "Core 6: 0.0%\n",
      "Core 7: 3.0%\n",
      "Core 8: 4.6%\n",
      "Core 9: 0.0%\n",
      "Core 10: 3.1%\n",
      "Core 11: 0.0%\n",
      "Total CPU Usage: 3.6%\n"
     ]
    }
   ],
   "source": [
    "# CPU Usage\n",
    "print(\"CPU Usage Per Core:\")\n",
    "\n",
    "for i, percentage in enumerate(psutil.cpu_percent(percpu = True, interval = 1)):\n",
    "    print(f\"Core {i}: {percentage}%\")\n",
    "print(f\"Total CPU Usage: {psutil.cpu_percent()}%\")"
   ]
  },
  {
   "cell_type": "code",
   "execution_count": null,
   "metadata": {},
   "outputs": [],
   "source": []
  }
 ],
 "metadata": {
  "kernelspec": {
   "display_name": "Python 3",
   "language": "python",
   "name": "python3"
  },
  "language_info": {
   "codemirror_mode": {
    "name": "ipython",
    "version": 3
   },
   "file_extension": ".py",
   "mimetype": "text/x-python",
   "name": "python",
   "nbconvert_exporter": "python",
   "pygments_lexer": "ipython3",
   "version": "3.7.6"
  }
 },
 "nbformat": 4,
 "nbformat_minor": 4
}

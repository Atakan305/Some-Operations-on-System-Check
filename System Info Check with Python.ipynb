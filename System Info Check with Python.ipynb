{
 "cells": [
  {
   "cell_type": "code",
   "execution_count": 1,
   "metadata": {},
   "outputs": [],
   "source": [
    "import platform "
   ]
  },
  {
   "cell_type": "code",
   "execution_count": 2,
   "metadata": {},
   "outputs": [
    {
     "name": "stdout",
     "output_type": "stream",
     "text": [
      "System:  Windows\n",
      "Node:  AtakanDell\n",
      "Platform:  Windows-10-10.0.19041-SP0\n",
      "Processor:  Intel64 Family 6 Model 165 Stepping 2, GenuineIntel\n"
     ]
    }
   ],
   "source": [
    "print(\"System: \", platform.system())\n",
    "print(\"Node: \", platform.node())\n",
    "print(\"Platform: \", platform.platform())\n",
    "print(\"Processor: \", platform.processor())"
   ]
  },
  {
   "cell_type": "code",
   "execution_count": null,
   "metadata": {},
   "outputs": [],
   "source": []
  }
 ],
 "metadata": {
  "kernelspec": {
   "display_name": "Python 3",
   "language": "python",
   "name": "python3"
  },
  "language_info": {
   "codemirror_mode": {
    "name": "ipython",
    "version": 3
   },
   "file_extension": ".py",
   "mimetype": "text/x-python",
   "name": "python",
   "nbconvert_exporter": "python",
   "pygments_lexer": "ipython3",
   "version": "3.7.6"
  }
 },
 "nbformat": 4,
 "nbformat_minor": 4
}
